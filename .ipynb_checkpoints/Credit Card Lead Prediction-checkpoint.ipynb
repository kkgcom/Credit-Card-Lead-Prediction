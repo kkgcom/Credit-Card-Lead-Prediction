{
 "cells": [
  {
   "cell_type": "code",
   "execution_count": 1,
   "id": "e8929069",
   "metadata": {},
   "outputs": [],
   "source": [
    "# Load Libraries\n",
    "import numpy as np\n",
    "from sklearn.ensemble import RandomForestClassifier\n",
    "import numpy as np # linear algebra\n",
    "import pandas as pd # data processing, CSV file I/O (e.g. pd.read_csv)\n",
    "from sklearn import preprocessing\n",
    "from sklearn.linear_model import LogisticRegression\n",
    "from sklearn.naive_bayes import GaussianNB\n",
    "from sklearn import tree\n",
    "from sklearn import svm\n",
    "from sklearn.ensemble import AdaBoostClassifier\n",
    "from sklearn.neighbors import KNeighborsClassifier\n",
    "from sklearn import ensemble\n",
    "from sklearn.metrics import roc_auc_score, roc_curve, confusion_matrix,accuracy_score, classification_report,f1_score,cohen_kappa_score"
   ]
  },
  {
   "cell_type": "code",
   "execution_count": 44,
   "id": "407ce651",
   "metadata": {},
   "outputs": [],
   "source": [
    "# Importing datasets\n",
    "train = pd.read_csv(\"Dataset/train.csv\")\n",
    "test = pd.read_csv(\"Dataset/test.csv\")"
   ]
  },
  {
   "cell_type": "code",
   "execution_count": 45,
   "id": "6124472d",
   "metadata": {},
   "outputs": [
    {
     "name": "stdout",
     "output_type": "stream",
     "text": [
      "test (105312, 10)\n",
      "train (245725, 11)\n"
     ]
    }
   ],
   "source": [
    "print(\"test\",test.shape)\n",
    "print(\"train\",train.shape)"
   ]
  },
  {
   "cell_type": "code",
   "execution_count": 4,
   "id": "81049773",
   "metadata": {},
   "outputs": [
    {
     "name": "stdout",
     "output_type": "stream",
     "text": [
      "test          ID  Gender  Age Region_Code Occupation Channel_Code  Vintage  \\\n",
      "0  VBENBARO    Male   29       RG254      Other           X1       25   \n",
      "1  CCMEWNKY    Male   43       RG268      Other           X2       49   \n",
      "2  VK3KGA9M    Male   31       RG270   Salaried           X1       14   \n",
      "3  TT8RPZVC    Male   29       RG272      Other           X1       33   \n",
      "4  SHQZEYTZ  Female   29       RG270      Other           X1       19   \n",
      "\n",
      "  Credit_Product  Avg_Account_Balance Is_Active  \n",
      "0            Yes               742366        No  \n",
      "1            NaN               925537        No  \n",
      "2             No               215949        No  \n",
      "3             No               868070        No  \n",
      "4             No               657087        No  \n",
      "train          ID  Gender  Age Region_Code     Occupation Channel_Code  Vintage  \\\n",
      "0  NNVBBKZB  Female   73       RG268          Other           X3       43   \n",
      "1  IDD62UNG  Female   30       RG277       Salaried           X1       32   \n",
      "2  HD3DSEMC  Female   56       RG268  Self_Employed           X3       26   \n",
      "3  BF3NC7KV    Male   34       RG270       Salaried           X1       19   \n",
      "4  TEASRWXV  Female   30       RG282       Salaried           X1       33   \n",
      "\n",
      "  Credit_Product  Avg_Account_Balance Is_Active  Is_Lead  \n",
      "0             No              1045696        No        0  \n",
      "1             No               581988        No        0  \n",
      "2             No              1484315       Yes        0  \n",
      "3             No               470454        No        0  \n",
      "4             No               886787        No        0  \n"
     ]
    }
   ],
   "source": [
    "# Input datasets heads\n",
    "print('test',test.head())\n",
    "print('train',train.head())"
   ]
  },
  {
   "cell_type": "code",
   "execution_count": 5,
   "id": "79d48a9a",
   "metadata": {},
   "outputs": [
    {
     "data": {
      "text/plain": [
       "ID                         0\n",
       "Gender                     0\n",
       "Age                        0\n",
       "Region_Code                0\n",
       "Occupation                 0\n",
       "Channel_Code               0\n",
       "Vintage                    0\n",
       "Credit_Product         29325\n",
       "Avg_Account_Balance        0\n",
       "Is_Active                  0\n",
       "Is_Lead                    0\n",
       "dtype: int64"
      ]
     },
     "execution_count": 5,
     "metadata": {},
     "output_type": "execute_result"
    }
   ],
   "source": [
    "train.isnull().sum()"
   ]
  },
  {
   "cell_type": "code",
   "execution_count": 6,
   "id": "a2cf0ce5",
   "metadata": {},
   "outputs": [
    {
     "data": {
      "text/plain": [
       "ID                         0\n",
       "Gender                     0\n",
       "Age                        0\n",
       "Region_Code                0\n",
       "Occupation                 0\n",
       "Channel_Code               0\n",
       "Vintage                    0\n",
       "Credit_Product         12522\n",
       "Avg_Account_Balance        0\n",
       "Is_Active                  0\n",
       "dtype: int64"
      ]
     },
     "execution_count": 6,
     "metadata": {},
     "output_type": "execute_result"
    }
   ],
   "source": [
    "test.isnull().sum()"
   ]
  },
  {
   "cell_type": "code",
   "execution_count": 7,
   "id": "42338c4e",
   "metadata": {},
   "outputs": [],
   "source": [
    "# from sklearn.impute import SimpleImputer\n",
    "# my_imputer = SimpleImputer(strategy='constant',fill_value= 'No')\n",
    "# train = my_imputer.fit_transform(train)\n",
    "# test = my_imputer.fit_transform(test)\n",
    "#train['Credit_Product'] = train['Credit_Product'].replace(np.nan, 'No')\n",
    "#test['Credit_Product'] = test['Credit_Product'].replace(np.nan, 'No')"
   ]
  },
  {
   "cell_type": "code",
   "execution_count": 8,
   "id": "a5fd787b",
   "metadata": {},
   "outputs": [
    {
     "name": "stdout",
     "output_type": "stream",
     "text": [
      "0 76 %\n",
      "1 24 %\n"
     ]
    }
   ],
   "source": [
    "# Visualization of Lead\n",
    "val=list(train['Is_Lead'].value_counts())\n",
    "for i in range(len(val)):\n",
    "    print(train['Is_Lead'].value_counts().index[i],round(val[i]/sum(val)*100),'%')"
   ]
  },
  {
   "cell_type": "code",
   "execution_count": 9,
   "id": "6e6f6113",
   "metadata": {},
   "outputs": [
    {
     "data": {
      "text/plain": [
       "ID                         0\n",
       "Gender                     0\n",
       "Age                        0\n",
       "Region_Code                0\n",
       "Occupation                 0\n",
       "Channel_Code               0\n",
       "Vintage                    0\n",
       "Credit_Product         29325\n",
       "Avg_Account_Balance        0\n",
       "Is_Active                  0\n",
       "Is_Lead                    0\n",
       "dtype: int64"
      ]
     },
     "execution_count": 9,
     "metadata": {},
     "output_type": "execute_result"
    }
   ],
   "source": [
    "train.isnull().sum()"
   ]
  },
  {
   "cell_type": "code",
   "execution_count": 10,
   "id": "beafe883",
   "metadata": {},
   "outputs": [
    {
     "data": {
      "text/plain": [
       "ID                     object\n",
       "Gender                 object\n",
       "Age                     int64\n",
       "Region_Code            object\n",
       "Occupation             object\n",
       "Channel_Code           object\n",
       "Vintage                 int64\n",
       "Credit_Product         object\n",
       "Avg_Account_Balance     int64\n",
       "Is_Active              object\n",
       "Is_Lead                 int64\n",
       "dtype: object"
      ]
     },
     "execution_count": 10,
     "metadata": {},
     "output_type": "execute_result"
    }
   ],
   "source": [
    "train.dtypes"
   ]
  },
  {
   "cell_type": "code",
   "execution_count": 47,
   "id": "11ff654f",
   "metadata": {},
   "outputs": [],
   "source": [
    "# Droping unique values\n",
    "train_final=train.copy()\n",
    "train_final.drop(['ID'],axis=1,inplace=True)"
   ]
  },
  {
   "cell_type": "code",
   "execution_count": 48,
   "id": "da111e7d",
   "metadata": {},
   "outputs": [],
   "source": [
    "# Finding categorical columns\n",
    "cat_col=list(set(train_final.columns)-set(train_final._get_numeric_data().columns))"
   ]
  },
  {
   "cell_type": "code",
   "execution_count": 49,
   "id": "295e56c7",
   "metadata": {},
   "outputs": [
    {
     "data": {
      "text/plain": [
       "[]"
      ]
     },
     "execution_count": 49,
     "metadata": {},
     "output_type": "execute_result"
    }
   ],
   "source": [
    "cat_col"
   ]
  },
  {
   "cell_type": "code",
   "execution_count": 14,
   "id": "78cae9c2",
   "metadata": {},
   "outputs": [],
   "source": [
    "# Label encoding\n",
    "def label_encoding_conversion(df,cat_col):\n",
    "    le=preprocessing.LabelEncoder()\n",
    "    for i in range(len(cat_col)):\n",
    "        df[cat_col[i]]=le.fit_transform(df[cat_col[i]]) # le.fit_transform(df[cat].astype(str))\n",
    "    return df"
   ]
  },
  {
   "cell_type": "code",
   "execution_count": 15,
   "id": "fde000fd",
   "metadata": {},
   "outputs": [],
   "source": [
    "train_final=label_encoding_conversion(train_final,cat_col)"
   ]
  },
  {
   "cell_type": "code",
   "execution_count": 50,
   "id": "58b02bc6",
   "metadata": {},
   "outputs": [],
   "source": [
    "# EDA\n",
    "import seaborn as sns\n",
    "sns.set_style(\"whitegrid\")\n",
    "import matplotlib.pyplot as plt"
   ]
  },
  {
   "cell_type": "code",
   "execution_count": 51,
   "id": "c391ddfa",
   "metadata": {},
   "outputs": [
    {
     "data": {
      "image/png": "[encoded data removed]",
      "text/plain": [
       "<Figure size 576x432 with 2 Axes>"
      ]
     },
     "metadata": {},
     "output_type": "display_data"
    }
   ],
   "source": [
    "#plotting the correlation matrix\n",
    "\n",
    "plt.figure(figsize = (8,6))\n",
    "sns.heatmap(train_final.corr(), vmax = 0.8, linewidths= 0.01, square= True, \n",
    "           annot= True, cmap= 'viridis', linecolor= 'white')\n",
    "\n",
    "plt.title('Correlation Matrix', fontsize = 15)\n",
    "plt.show()"
   ]
  },
  {
   "cell_type": "code",
   "execution_count": 52,
   "id": "c0528677",
   "metadata": {},
   "outputs": [
    {
     "data": {
      "text/html": [
       "<div>\n",
       "<style scoped>\n",
       "    .dataframe tbody tr th:only-of-type {\n",
       "        vertical-align: middle;\n",
       "    }\n",
       "\n",
       "    .dataframe tbody tr th {\n",
       "        vertical-align: top;\n",
       "    }\n",
       "\n",
       "    .dataframe thead th {\n",
       "        text-align: right;\n",
       "    }\n",
       "</style>\n",
       "<table border=\"1\" class=\"dataframe\">\n",
       "  <thead>\n",
       "    <tr style=\"text-align: right;\">\n",
       "      <th></th>\n",
       "      <th>Age</th>\n",
       "      <th>Vintage</th>\n",
       "    </tr>\n",
       "  </thead>\n",
       "  <tbody>\n",
       "    <tr>\n",
       "      <th>0</th>\n",
       "      <td>73</td>\n",
       "      <td>43</td>\n",
       "    </tr>\n",
       "    <tr>\n",
       "      <th>1</th>\n",
       "      <td>30</td>\n",
       "      <td>32</td>\n",
       "    </tr>\n",
       "    <tr>\n",
       "      <th>2</th>\n",
       "      <td>56</td>\n",
       "      <td>26</td>\n",
       "    </tr>\n",
       "    <tr>\n",
       "      <th>3</th>\n",
       "      <td>34</td>\n",
       "      <td>19</td>\n",
       "    </tr>\n",
       "    <tr>\n",
       "      <th>4</th>\n",
       "      <td>30</td>\n",
       "      <td>33</td>\n",
       "    </tr>\n",
       "  </tbody>\n",
       "</table>\n",
       "</div>"
      ],
      "text/plain": [
       "   Age  Vintage\n",
       "0   73       43\n",
       "1   30       32\n",
       "2   56       26\n",
       "3   34       19\n",
       "4   30       33"
      ]
     },
     "execution_count": 52,
     "metadata": {},
     "output_type": "execute_result"
    }
   ],
   "source": [
    "# Target data set\n",
    "target=train_final[['Is_Lead']]\n",
    "train_final.drop(['Is_Lead'],axis=1,inplace=True)\n",
    "train_final.head()"
   ]
  },
  {
   "cell_type": "code",
   "execution_count": 19,
   "id": "f6df8a57",
   "metadata": {},
   "outputs": [],
   "source": [
    "# Test Data Preprocessing\n",
    "# TEST data preparation"
   ]
  },
  {
   "cell_type": "code",
   "execution_count": 53,
   "id": "cbc727f2",
   "metadata": {},
   "outputs": [],
   "source": [
    "# Removing unique columns\n",
    "test_final=test.copy()\n",
    "test_final.drop(['ID'],axis=1,inplace=True)"
   ]
  },
  {
   "cell_type": "code",
   "execution_count": 21,
   "id": "7d448ba1",
   "metadata": {},
   "outputs": [],
   "source": [
    "test_final=label_encoding_conversion(test_final,cat_col)"
   ]
  },
  {
   "cell_type": "code",
   "execution_count": 54,
   "id": "96230a0c",
   "metadata": {},
   "outputs": [
    {
     "name": "stderr",
     "output_type": "stream",
     "text": [
      "C:\\Users\\ekajgho\\Anaconda3\\lib\\site-packages\\sklearn\\utils\\validation.py:63: DataConversionWarning: A column-vector y was passed when a 1d array was expected. Please change the shape of y to (n_samples, ), for example using ravel().\n",
      "  return f(*args, **kwargs)\n"
     ]
    },
    {
     "data": {
      "text/plain": [
       "0.7520073252619799"
      ]
     },
     "execution_count": 54,
     "metadata": {},
     "output_type": "execute_result"
    }
   ],
   "source": [
    "# LogisticRegression\n",
    "lr=LogisticRegression()\n",
    "lr.fit(train_final,target)\n",
    "lr_pred=lr.predict(test_final)\n",
    "accuracy_score(pd.DataFrame(lr.predict(train_final)),target)"
   ]
  },
  {
   "cell_type": "code",
   "execution_count": 55,
   "id": "7c29dac9",
   "metadata": {},
   "outputs": [
    {
     "name": "stderr",
     "output_type": "stream",
     "text": [
      "<ipython-input-55-b001d032726e>:3: DataConversionWarning: A column-vector y was passed when a 1d array was expected. Please change the shape of y to (n_samples,), for example using ravel().\n",
      "  rf.fit(train_final,target)\n"
     ]
    },
    {
     "data": {
      "text/plain": [
       "0.7713297385288432"
      ]
     },
     "execution_count": 55,
     "metadata": {},
     "output_type": "execute_result"
    }
   ],
   "source": [
    "# RandomForestClassifier\n",
    "rf=RandomForestClassifier()\n",
    "rf.fit(train_final,target)\n",
    "rf_pred=rf.predict(test_final)\n",
    "accuracy_score(pd.DataFrame(rf.predict(train_final)),target)"
   ]
  },
  {
   "cell_type": "code",
   "execution_count": 24,
   "id": "44802c01",
   "metadata": {},
   "outputs": [
    {
     "name": "stderr",
     "output_type": "stream",
     "text": [
      "C:\\Users\\ekajgho\\Anaconda3\\lib\\site-packages\\sklearn\\utils\\validation.py:63: DataConversionWarning: A column-vector y was passed when a 1d array was expected. Please change the shape of y to (n_samples, ), for example using ravel().\n",
      "  return f(*args, **kwargs)\n"
     ]
    },
    {
     "data": {
      "text/plain": [
       "0.7564065520398819"
      ]
     },
     "execution_count": 24,
     "metadata": {},
     "output_type": "execute_result"
    }
   ],
   "source": [
    "# GaussianNB\n",
    "nb=GaussianNB()\n",
    "nb.fit(train_final,target)\n",
    "nb.predict(test_final)\n",
    "accuracy_score(pd.DataFrame(nb.predict(train_final)),target)"
   ]
  },
  {
   "cell_type": "code",
   "execution_count": 56,
   "id": "aedec181",
   "metadata": {},
   "outputs": [
    {
     "data": {
      "text/plain": [
       "0.7713500864787872"
      ]
     },
     "execution_count": 56,
     "metadata": {},
     "output_type": "execute_result"
    }
   ],
   "source": [
    "# DecisionTreeClassifier\n",
    "dt=tree.DecisionTreeClassifier()\n",
    "dt.fit(train_final,target)\n",
    "dt.predict(test_final)\n",
    "accuracy_score(pd.DataFrame(dt.predict(train_final)),target)"
   ]
  },
  {
   "cell_type": "code",
   "execution_count": 26,
   "id": "9875eabb",
   "metadata": {},
   "outputs": [
    {
     "name": "stderr",
     "output_type": "stream",
     "text": [
      "C:\\Users\\ekajgho\\Anaconda3\\lib\\site-packages\\sklearn\\utils\\validation.py:63: DataConversionWarning: A column-vector y was passed when a 1d array was expected. Please change the shape of y to (n_samples, ), for example using ravel().\n",
      "  return f(*args, **kwargs)\n"
     ]
    },
    {
     "data": {
      "text/plain": [
       "0.8555905992471259"
      ]
     },
     "execution_count": 26,
     "metadata": {},
     "output_type": "execute_result"
    }
   ],
   "source": [
    "# AdaBoostClassifier\n",
    "ada=AdaBoostClassifier()\n",
    "ada.fit(train_final,target)\n",
    "ada.predict(test_final)\n",
    "accuracy_score(pd.DataFrame(ada.predict(train_final)),target)"
   ]
  },
  {
   "cell_type": "code",
   "execution_count": 27,
   "id": "46f777da",
   "metadata": {},
   "outputs": [
    {
     "name": "stderr",
     "output_type": "stream",
     "text": [
      "C:\\Users\\ekajgho\\Anaconda3\\lib\\site-packages\\sklearn\\neighbors\\_classification.py:179: DataConversionWarning: A column-vector y was passed when a 1d array was expected. Please change the shape of y to (n_samples,), for example using ravel().\n",
      "  return self._fit(X, y)\n"
     ]
    },
    {
     "data": {
      "text/plain": [
       "0.8026330247227592"
      ]
     },
     "execution_count": 27,
     "metadata": {},
     "output_type": "execute_result"
    }
   ],
   "source": [
    "# KNeighborsClassifier\n",
    "knn=KNeighborsClassifier()\n",
    "knn.fit(train_final,target)\n",
    "knn.predict(test_final)\n",
    "accuracy_score(pd.DataFrame(knn.predict(train_final)),target)"
   ]
  },
  {
   "cell_type": "code",
   "execution_count": 28,
   "id": "7121e888",
   "metadata": {},
   "outputs": [
    {
     "name": "stderr",
     "output_type": "stream",
     "text": [
      "C:\\Users\\ekajgho\\Anaconda3\\lib\\site-packages\\sklearn\\utils\\validation.py:63: DataConversionWarning: A column-vector y was passed when a 1d array was expected. Please change the shape of y to (n_samples, ), for example using ravel().\n",
      "  return f(*args, **kwargs)\n"
     ]
    },
    {
     "data": {
      "text/plain": [
       "0.8602624885542781"
      ]
     },
     "execution_count": 28,
     "metadata": {},
     "output_type": "execute_result"
    }
   ],
   "source": [
    "# GradientBoostingClassifier\n",
    "gb=ensemble.GradientBoostingClassifier()\n",
    "gb.fit(train_final,target)\n",
    "gb_pre=gb.predict(test_final)\n",
    "accuracy_score(pd.DataFrame(gb.predict(train_final)),target)"
   ]
  },
  {
   "cell_type": "code",
   "execution_count": 29,
   "id": "00e713c6",
   "metadata": {},
   "outputs": [],
   "source": [
    "### From the above results it is observed that Decision Tree is the best performing model. "
   ]
  },
  {
   "cell_type": "code",
   "execution_count": 30,
   "id": "9b567229",
   "metadata": {},
   "outputs": [
    {
     "name": "stdout",
     "output_type": "stream",
     "text": [
      "(172007, 9)\n",
      "(73718, 9)\n",
      "(172007, 1)\n",
      "(73718, 1)\n"
     ]
    }
   ],
   "source": [
    "from sklearn.model_selection import train_test_split\n",
    "X_train, X_test, y_train, y_test = train_test_split(train_final, target, test_size=0.3, random_state=1)\n",
    "\n",
    "print(X_train.shape)\n",
    "print(X_test.shape)\n",
    "print(y_train.shape)\n",
    "print(y_test.shape)"
   ]
  },
  {
   "cell_type": "code",
   "execution_count": 31,
   "id": "5fd88d95",
   "metadata": {},
   "outputs": [
    {
     "name": "stderr",
     "output_type": "stream",
     "text": [
      "<ipython-input-31-118b24d0dc5d>:1: DataConversionWarning: A column-vector y was passed when a 1d array was expected. Please change the shape of y to (n_samples,), for example using ravel().\n",
      "  rf.fit(X_train, y_train)\n"
     ]
    },
    {
     "name": "stdout",
     "output_type": "stream",
     "text": [
      "Training score = 0.9999186079636294\n",
      "Test score = 0.8535500149217288\n"
     ]
    }
   ],
   "source": [
    "rf.fit(X_train, y_train)\n",
    "print('Training score =', rf.score(X_train, y_train))\n",
    "print('Test score =', rf.score(X_test, y_test))"
   ]
  },
  {
   "cell_type": "code",
   "execution_count": 32,
   "id": "57d929bd",
   "metadata": {},
   "outputs": [
    {
     "name": "stdout",
     "output_type": "stream",
     "text": [
      "Training score = 0.9999883725662327\n",
      "Test score = 0.784638758512168\n"
     ]
    }
   ],
   "source": [
    "dt.fit(X_train, y_train)\n",
    "print('Training score =', dt.score(X_train, y_train))\n",
    "print('Test score =', dt.score(X_test, y_test))"
   ]
  },
  {
   "cell_type": "code",
   "execution_count": 33,
   "id": "dc8bf355",
   "metadata": {},
   "outputs": [
    {
     "name": "stderr",
     "output_type": "stream",
     "text": [
      "C:\\Users\\ekajgho\\Anaconda3\\lib\\site-packages\\sklearn\\utils\\validation.py:63: DataConversionWarning: A column-vector y was passed when a 1d array was expected. Please change the shape of y to (n_samples, ), for example using ravel().\n",
      "  return f(*args, **kwargs)\n"
     ]
    },
    {
     "name": "stdout",
     "output_type": "stream",
     "text": [
      "Training score = 0.8553547239356538\n",
      "Test score = 0.8563580129683388\n"
     ]
    }
   ],
   "source": [
    "ada.fit(X_train, y_train)\n",
    "print('Training score =', ada.score(X_train, y_train))\n",
    "print('Test score =', ada.score(X_test, y_test))"
   ]
  },
  {
   "cell_type": "code",
   "execution_count": 34,
   "id": "6c5a9089",
   "metadata": {},
   "outputs": [
    {
     "name": "stderr",
     "output_type": "stream",
     "text": [
      "C:\\Users\\ekajgho\\Anaconda3\\lib\\site-packages\\sklearn\\utils\\validation.py:63: DataConversionWarning: A column-vector y was passed when a 1d array was expected. Please change the shape of y to (n_samples, ), for example using ravel().\n",
      "  return f(*args, **kwargs)\n"
     ]
    },
    {
     "name": "stdout",
     "output_type": "stream",
     "text": [
      "Training score = 0.8597615213334341\n",
      "Test score = 0.8610108792967797\n"
     ]
    }
   ],
   "source": [
    "gb.fit(X_train, y_train)\n",
    "print('Training score =', gb.score(X_train, y_train))\n",
    "print('Test score =', gb.score(X_test, y_test))"
   ]
  },
  {
   "cell_type": "code",
   "execution_count": 35,
   "id": "cffead08",
   "metadata": {},
   "outputs": [
    {
     "name": "stdout",
     "output_type": "stream",
     "text": [
      "Training score = 0.7552308917660328\n",
      "Test score = 0.7574947773949374\n"
     ]
    },
    {
     "name": "stderr",
     "output_type": "stream",
     "text": [
      "C:\\Users\\ekajgho\\Anaconda3\\lib\\site-packages\\sklearn\\utils\\validation.py:63: DataConversionWarning: A column-vector y was passed when a 1d array was expected. Please change the shape of y to (n_samples, ), for example using ravel().\n",
      "  return f(*args, **kwargs)\n"
     ]
    }
   ],
   "source": [
    "nb.fit(X_train, y_train)\n",
    "print('Training score =', nb.score(X_train, y_train))\n",
    "print('Test score =', nb.score(X_test, y_test))"
   ]
  },
  {
   "cell_type": "code",
   "execution_count": 36,
   "id": "3a598a2c",
   "metadata": {},
   "outputs": [
    {
     "name": "stderr",
     "output_type": "stream",
     "text": [
      "C:\\Users\\ekajgho\\Anaconda3\\lib\\site-packages\\sklearn\\utils\\validation.py:63: DataConversionWarning: A column-vector y was passed when a 1d array was expected. Please change the shape of y to (n_samples, ), for example using ravel().\n",
      "  return f(*args, **kwargs)\n"
     ]
    },
    {
     "name": "stdout",
     "output_type": "stream",
     "text": [
      "Training score = 0.7619224798990739\n",
      "Test score = 0.764819989690442\n"
     ]
    }
   ],
   "source": [
    "lr.fit(X_train, y_train)\n",
    "print('Training score =', lr.score(X_train, y_train))\n",
    "print('Test score =', lr.score(X_test, y_test))"
   ]
  },
  {
   "cell_type": "code",
   "execution_count": 37,
   "id": "2027e52d",
   "metadata": {},
   "outputs": [
    {
     "name": "stderr",
     "output_type": "stream",
     "text": [
      "C:\\Users\\ekajgho\\Anaconda3\\lib\\site-packages\\sklearn\\neighbors\\_classification.py:179: DataConversionWarning: A column-vector y was passed when a 1d array was expected. Please change the shape of y to (n_samples,), for example using ravel().\n",
      "  return self._fit(X, y)\n"
     ]
    },
    {
     "name": "stdout",
     "output_type": "stream",
     "text": [
      "Training score = 0.8006360206270675\n",
      "Test score = 0.7293062752651999\n"
     ]
    }
   ],
   "source": [
    "knn.fit(X_train, y_train)\n",
    "print('Training score =', knn.score(X_train, y_train))\n",
    "print('Test score =', knn.score(X_test, y_test))"
   ]
  },
  {
   "cell_type": "code",
   "execution_count": 38,
   "id": "f0e1a5ad",
   "metadata": {},
   "outputs": [
    {
     "data": {
      "image/png": "[encoded data removed]",
      "text/plain": [
       "<Figure size 432x288 with 2 Axes>"
      ]
     },
     "metadata": {},
     "output_type": "display_data"
    }
   ],
   "source": [
    "predictions = rf.predict(X_test)\n",
    "cm = confusion_matrix(y_test, predictions)\n",
    "sns.heatmap(cm, annot=True, fmt='d')\n",
    "plt.title('Confusion Matrix')\n",
    "plt.show()"
   ]
  },
  {
   "cell_type": "code",
   "execution_count": 39,
   "id": "bb4eeabb",
   "metadata": {},
   "outputs": [
    {
     "name": "stdout",
     "output_type": "stream",
     "text": [
      "Accuracy = 0.8535500149217288\n",
      "Precision = 0.7431779314447171\n",
      "Recall = 0.5765126607832959\n",
      "F1 Score = 0.6493211199896057\n"
     ]
    }
   ],
   "source": [
    "tn = cm[0,0]  #True Negative\n",
    "tp = cm[1,1]  #True Positives\n",
    "fp = cm[0,1]  #False Positives\n",
    "fn = cm[1,0]  #False Negatives\n",
    "\n",
    "accuracy = (tp+tn)/(tp+fn+fp+tn)\n",
    "precision = tp / (tp+fp)\n",
    "recall = tp / (tp+fn)\n",
    "f1 = 2*precision*recall / (precision+recall)\n",
    "\n",
    "print('Accuracy =',accuracy)\n",
    "print('Precision =', precision)\n",
    "print('Recall =', recall)\n",
    "print('F1 Score =', f1)"
   ]
  },
  {
   "cell_type": "code",
   "execution_count": 40,
   "id": "a3858e64",
   "metadata": {},
   "outputs": [
    {
     "name": "stdout",
     "output_type": "stream",
     "text": [
      "ROC AUC = 0.8557950900628344\n"
     ]
    },
    {
     "data": {
      "image/png": "[encoded data removed]",
      "text/plain": [
       "<Figure size 432x288 with 1 Axes>"
      ]
     },
     "metadata": {},
     "output_type": "display_data"
    }
   ],
   "source": [
    "from sklearn.metrics import roc_curve,roc_auc_score\n",
    "ypred = rf.predict_proba(X_test)\n",
    "fpr,tpr,threshold = roc_curve(y_test,ypred[:,1])\n",
    "roc_auc = roc_auc_score(y_test,ypred[:,1])\n",
    "\n",
    "print('ROC AUC =', roc_auc)\n",
    "plt.figure()\n",
    "lw = 2\n",
    "plt.plot(fpr,tpr,color='darkorange',lw=lw,label='ROC Curve (area = %0.2f)'%roc_auc)\n",
    "plt.plot([0,1],[0,1],color='navy',lw=lw,linestyle='--')\n",
    "plt.xlim([0.0, 1.0])\n",
    "plt.ylim([0.0, 1.05])\n",
    "plt.xlabel('FPR')\n",
    "plt.ylabel('TPR')\n",
    "plt.title('ROC Curve')\n",
    "plt.legend(loc='lower right')\n",
    "plt.show()"
   ]
  },
  {
   "cell_type": "code",
   "execution_count": 41,
   "id": "fc66d0a6",
   "metadata": {},
   "outputs": [],
   "source": [
    "# Predict and submission file\n",
    "predict_test=rf.predict(test_final)\n",
    "pred_df=pd.DataFrame(predict_test,columns=['Is_Lead'])\n",
    "submission=pd.concat([test[['ID']],pred_df],axis=1)\n",
    "submission.to_csv('sub.csv',index=False,header=True)"
   ]
  }
 ],
 "metadata": {
  "kernelspec": {
   "display_name": "Python 3",
   "language": "python",
   "name": "python3"
  },
  "language_info": {
   "codemirror_mode": {
    "name": "ipython",
    "version": 3
   },
   "file_extension": ".py",
   "mimetype": "text/x-python",
   "name": "python",
   "nbconvert_exporter": "python",
   "pygments_lexer": "ipython3",
   "version": "3.8.8"
  }
 },
 "nbformat": 4,
 "nbformat_minor": 5
}
