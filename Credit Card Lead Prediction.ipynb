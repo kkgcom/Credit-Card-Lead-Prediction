{
 "cells": [
  {
   "cell_type": "code",
   "execution_count": 1,
   "id": "e8929069",
   "metadata": {},
   "outputs": [],
   "source": [
    "# Load Libraries\n",
    "import numpy as np\n",
    "from sklearn.ensemble import RandomForestClassifier\n",
    "import numpy as np # linear algebra\n",
    "import pandas as pd # data processing, CSV file I/O (e.g. pd.read_csv)\n",
    "from sklearn import preprocessing\n",
    "from sklearn.linear_model import LogisticRegression\n",
    "from sklearn.naive_bayes import GaussianNB\n",
    "from sklearn import tree\n",
    "from sklearn import svm\n",
    "from sklearn.ensemble import AdaBoostClassifier\n",
    "from sklearn.neighbors import KNeighborsClassifier\n",
    "from lightgbm import LGBMClassifier\n",
    "from sklearn import ensemble\n",
    "from sklearn.metrics import roc_auc_score, roc_curve, confusion_matrix,accuracy_score, classification_report,f1_score,cohen_kappa_score"
   ]
  },
  {
   "cell_type": "code",
   "execution_count": 2,
   "id": "407ce651",
   "metadata": {},
   "outputs": [],
   "source": [
    "# Importing datasets\n",
    "train = pd.read_csv(\"Dataset/train.csv\")\n",
    "test = pd.read_csv(\"Dataset/test.csv\")"
   ]
  },
  {
   "cell_type": "code",
   "execution_count": 3,
   "id": "6124472d",
   "metadata": {},
   "outputs": [
    {
     "name": "stdout",
     "output_type": "stream",
     "text": [
      "test (105312, 10)\n",
      "train (245725, 11)\n"
     ]
    }
   ],
   "source": [
    "print(\"test\",test.shape)\n",
    "print(\"train\",train.shape)"
   ]
  },
  {
   "cell_type": "code",
   "execution_count": 4,
   "id": "81049773",
   "metadata": {},
   "outputs": [
    {
     "name": "stdout",
     "output_type": "stream",
     "text": [
      "test          ID  Gender  Age Region_Code Occupation Channel_Code  Vintage  \\\n",
      "0  VBENBARO    Male   29       RG254      Other           X1       25   \n",
      "1  CCMEWNKY    Male   43       RG268      Other           X2       49   \n",
      "2  VK3KGA9M    Male   31       RG270   Salaried           X1       14   \n",
      "3  TT8RPZVC    Male   29       RG272      Other           X1       33   \n",
      "4  SHQZEYTZ  Female   29       RG270      Other           X1       19   \n",
      "\n",
      "  Credit_Product  Avg_Account_Balance Is_Active  \n",
      "0            Yes               742366        No  \n",
      "1            NaN               925537        No  \n",
      "2             No               215949        No  \n",
      "3             No               868070        No  \n",
      "4             No               657087        No  \n",
      "train          ID  Gender  Age Region_Code     Occupation Channel_Code  Vintage  \\\n",
      "0  NNVBBKZB  Female   73       RG268          Other           X3       43   \n",
      "1  IDD62UNG  Female   30       RG277       Salaried           X1       32   \n",
      "2  HD3DSEMC  Female   56       RG268  Self_Employed           X3       26   \n",
      "3  BF3NC7KV    Male   34       RG270       Salaried           X1       19   \n",
      "4  TEASRWXV  Female   30       RG282       Salaried           X1       33   \n",
      "\n",
      "  Credit_Product  Avg_Account_Balance Is_Active  Is_Lead  \n",
      "0             No              1045696        No        0  \n",
      "1             No               581988        No        0  \n",
      "2             No              1484315       Yes        0  \n",
      "3             No               470454        No        0  \n",
      "4             No               886787        No        0  \n"
     ]
    }
   ],
   "source": [
    "# Input datasets heads\n",
    "print('test',test.head())\n",
    "print('train',train.head())"
   ]
  },
  {
   "cell_type": "code",
   "execution_count": 5,
   "id": "79d48a9a",
   "metadata": {},
   "outputs": [
    {
     "data": {
      "text/plain": [
       "ID                         0\n",
       "Gender                     0\n",
       "Age                        0\n",
       "Region_Code                0\n",
       "Occupation                 0\n",
       "Channel_Code               0\n",
       "Vintage                    0\n",
       "Credit_Product         29325\n",
       "Avg_Account_Balance        0\n",
       "Is_Active                  0\n",
       "Is_Lead                    0\n",
       "dtype: int64"
      ]
     },
     "execution_count": 5,
     "metadata": {},
     "output_type": "execute_result"
    }
   ],
   "source": [
    "train.isnull().sum()"
   ]
  },
  {
   "cell_type": "code",
   "execution_count": 6,
   "id": "a2cf0ce5",
   "metadata": {},
   "outputs": [
    {
     "data": {
      "text/plain": [
       "ID                         0\n",
       "Gender                     0\n",
       "Age                        0\n",
       "Region_Code                0\n",
       "Occupation                 0\n",
       "Channel_Code               0\n",
       "Vintage                    0\n",
       "Credit_Product         12522\n",
       "Avg_Account_Balance        0\n",
       "Is_Active                  0\n",
       "dtype: int64"
      ]
     },
     "execution_count": 6,
     "metadata": {},
     "output_type": "execute_result"
    }
   ],
   "source": [
    "test.isnull().sum()"
   ]
  },
  {
   "cell_type": "code",
   "execution_count": 7,
   "id": "42338c4e",
   "metadata": {},
   "outputs": [],
   "source": [
    "# from sklearn.impute import SimpleImputer\n",
    "# my_imputer = SimpleImputer(strategy='constant',fill_value= 'No')\n",
    "# train = my_imputer.fit_transform(train)\n",
    "# test = my_imputer.fit_transform(test)\n",
    "#train['Credit_Product'] = train['Credit_Product'].replace(np.nan, 'No')\n",
    "#test['Credit_Product'] = test['Credit_Product'].replace(np.nan, 'No')"
   ]
  },
  {
   "cell_type": "code",
   "execution_count": 8,
   "id": "a5fd787b",
   "metadata": {},
   "outputs": [
    {
     "name": "stdout",
     "output_type": "stream",
     "text": [
      "0 76 %\n",
      "1 24 %\n"
     ]
    }
   ],
   "source": [
    "# Visualization of Lead\n",
    "val=list(train['Is_Lead'].value_counts())\n",
    "for i in range(len(val)):\n",
    "    print(train['Is_Lead'].value_counts().index[i],round(val[i]/sum(val)*100),'%')"
   ]
  },
  {
   "cell_type": "code",
   "execution_count": 9,
   "id": "6e6f6113",
   "metadata": {},
   "outputs": [
    {
     "data": {
      "text/plain": [
       "ID                         0\n",
       "Gender                     0\n",
       "Age                        0\n",
       "Region_Code                0\n",
       "Occupation                 0\n",
       "Channel_Code               0\n",
       "Vintage                    0\n",
       "Credit_Product         29325\n",
       "Avg_Account_Balance        0\n",
       "Is_Active                  0\n",
       "Is_Lead                    0\n",
       "dtype: int64"
      ]
     },
     "execution_count": 9,
     "metadata": {},
     "output_type": "execute_result"
    }
   ],
   "source": [
    "train.isnull().sum()"
   ]
  },
  {
   "cell_type": "code",
   "execution_count": 10,
   "id": "beafe883",
   "metadata": {},
   "outputs": [
    {
     "data": {
      "text/plain": [
       "ID                     object\n",
       "Gender                 object\n",
       "Age                     int64\n",
       "Region_Code            object\n",
       "Occupation             object\n",
       "Channel_Code           object\n",
       "Vintage                 int64\n",
       "Credit_Product         object\n",
       "Avg_Account_Balance     int64\n",
       "Is_Active              object\n",
       "Is_Lead                 int64\n",
       "dtype: object"
      ]
     },
     "execution_count": 10,
     "metadata": {},
     "output_type": "execute_result"
    }
   ],
   "source": [
    "train.dtypes"
   ]
  },
  {
   "cell_type": "code",
   "execution_count": 11,
   "id": "11ff654f",
   "metadata": {},
   "outputs": [],
   "source": [
    "# Droping unique values\n",
    "train_final=train.copy()\n",
    "train_final.drop(['ID'],axis=1,inplace=True)"
   ]
  },
  {
   "cell_type": "code",
   "execution_count": 12,
   "id": "da111e7d",
   "metadata": {},
   "outputs": [],
   "source": [
    "# Finding categorical columns\n",
    "cat_col=list(set(train_final.columns)-set(train_final._get_numeric_data().columns))"
   ]
  },
  {
   "cell_type": "code",
   "execution_count": 13,
   "id": "295e56c7",
   "metadata": {},
   "outputs": [
    {
     "data": {
      "text/plain": [
       "['Occupation',\n",
       " 'Region_Code',\n",
       " 'Channel_Code',\n",
       " 'Is_Active',\n",
       " 'Credit_Product',\n",
       " 'Gender']"
      ]
     },
     "execution_count": 13,
     "metadata": {},
     "output_type": "execute_result"
    }
   ],
   "source": [
    "cat_col"
   ]
  },
  {
   "cell_type": "code",
   "execution_count": 14,
   "id": "78cae9c2",
   "metadata": {},
   "outputs": [],
   "source": [
    "# Label encoding\n",
    "def label_encoding_conversion(df,cat_col):\n",
    "    le=preprocessing.LabelEncoder()\n",
    "    for i in range(len(cat_col)):\n",
    "        df[cat_col[i]]=le.fit_transform(df[cat_col[i]]) # le.fit_transform(df[cat].astype(str))\n",
    "    return df"
   ]
  },
  {
   "cell_type": "code",
   "execution_count": 15,
   "id": "fde000fd",
   "metadata": {},
   "outputs": [],
   "source": [
    "train_final=label_encoding_conversion(train_final,cat_col)"
   ]
  },
  {
   "cell_type": "code",
   "execution_count": 16,
   "id": "58b02bc6",
   "metadata": {},
   "outputs": [],
   "source": [
    "# EDA\n",
    "import seaborn as sns\n",
    "sns.set_style(\"whitegrid\")\n",
    "import matplotlib.pyplot as plt"
   ]
  },
  {
   "cell_type": "code",
   "execution_count": 17,
   "id": "c391ddfa",
   "metadata": {},
   "outputs": [
    {
     "data": {
      "image/png": "[encoded data removed]",
      "text/plain": [
       "<Figure size 576x432 with 2 Axes>"
      ]
     },
     "metadata": {},
     "output_type": "display_data"
    }
   ],
   "source": [
    "#plotting the correlation matrix\n",
    "\n",
    "plt.figure(figsize = (8,6))\n",
    "sns.heatmap(train_final.corr(), vmax = 0.8, linewidths= 0.01, square= True, \n",
    "           annot= True, cmap= 'viridis', linecolor= 'white')\n",
    "\n",
    "plt.title('Correlation Matrix', fontsize = 15)\n",
    "plt.show()"
   ]
  },
  {
   "cell_type": "code",
   "execution_count": 18,
   "id": "c0528677",
   "metadata": {},
   "outputs": [
    {
     "data": {
      "text/html": [
       "<div>\n",
       "<style scoped>\n",
       "    .dataframe tbody tr th:only-of-type {\n",
       "        vertical-align: middle;\n",
       "    }\n",
       "\n",
       "    .dataframe tbody tr th {\n",
       "        vertical-align: top;\n",
       "    }\n",
       "\n",
       "    .dataframe thead th {\n",
       "        text-align: right;\n",
       "    }\n",
       "</style>\n",
       "<table border=\"1\" class=\"dataframe\">\n",
       "  <thead>\n",
       "    <tr style=\"text-align: right;\">\n",
       "      <th></th>\n",
       "      <th>Gender</th>\n",
       "      <th>Age</th>\n",
       "      <th>Region_Code</th>\n",
       "      <th>Occupation</th>\n",
       "      <th>Channel_Code</th>\n",
       "      <th>Vintage</th>\n",
       "      <th>Credit_Product</th>\n",
       "      <th>Avg_Account_Balance</th>\n",
       "      <th>Is_Active</th>\n",
       "    </tr>\n",
       "  </thead>\n",
       "  <tbody>\n",
       "    <tr>\n",
       "      <th>0</th>\n",
       "      <td>0</td>\n",
       "      <td>73</td>\n",
       "      <td>18</td>\n",
       "      <td>1</td>\n",
       "      <td>2</td>\n",
       "      <td>43</td>\n",
       "      <td>0</td>\n",
       "      <td>1045696</td>\n",
       "      <td>0</td>\n",
       "    </tr>\n",
       "    <tr>\n",
       "      <th>1</th>\n",
       "      <td>0</td>\n",
       "      <td>30</td>\n",
       "      <td>27</td>\n",
       "      <td>2</td>\n",
       "      <td>0</td>\n",
       "      <td>32</td>\n",
       "      <td>0</td>\n",
       "      <td>581988</td>\n",
       "      <td>0</td>\n",
       "    </tr>\n",
       "    <tr>\n",
       "      <th>2</th>\n",
       "      <td>0</td>\n",
       "      <td>56</td>\n",
       "      <td>18</td>\n",
       "      <td>3</td>\n",
       "      <td>2</td>\n",
       "      <td>26</td>\n",
       "      <td>0</td>\n",
       "      <td>1484315</td>\n",
       "      <td>1</td>\n",
       "    </tr>\n",
       "    <tr>\n",
       "      <th>3</th>\n",
       "      <td>1</td>\n",
       "      <td>34</td>\n",
       "      <td>20</td>\n",
       "      <td>2</td>\n",
       "      <td>0</td>\n",
       "      <td>19</td>\n",
       "      <td>0</td>\n",
       "      <td>470454</td>\n",
       "      <td>0</td>\n",
       "    </tr>\n",
       "    <tr>\n",
       "      <th>4</th>\n",
       "      <td>0</td>\n",
       "      <td>30</td>\n",
       "      <td>32</td>\n",
       "      <td>2</td>\n",
       "      <td>0</td>\n",
       "      <td>33</td>\n",
       "      <td>0</td>\n",
       "      <td>886787</td>\n",
       "      <td>0</td>\n",
       "    </tr>\n",
       "  </tbody>\n",
       "</table>\n",
       "</div>"
      ],
      "text/plain": [
       "   Gender  Age  Region_Code  Occupation  Channel_Code  Vintage  \\\n",
       "0       0   73           18           1             2       43   \n",
       "1       0   30           27           2             0       32   \n",
       "2       0   56           18           3             2       26   \n",
       "3       1   34           20           2             0       19   \n",
       "4       0   30           32           2             0       33   \n",
       "\n",
       "   Credit_Product  Avg_Account_Balance  Is_Active  \n",
       "0               0              1045696          0  \n",
       "1               0               581988          0  \n",
       "2               0              1484315          1  \n",
       "3               0               470454          0  \n",
       "4               0               886787          0  "
      ]
     },
     "execution_count": 18,
     "metadata": {},
     "output_type": "execute_result"
    }
   ],
   "source": [
    "# Target data set\n",
    "target=train_final[['Is_Lead']]\n",
    "train_final.drop(['Is_Lead'],axis=1,inplace=True)\n",
    "train_final.head()"
   ]
  },
  {
   "cell_type": "code",
   "execution_count": 19,
   "id": "f6df8a57",
   "metadata": {},
   "outputs": [],
   "source": [
    "# Test Data Preprocessing\n",
    "# TEST data preparation"
   ]
  },
  {
   "cell_type": "code",
   "execution_count": 20,
   "id": "cbc727f2",
   "metadata": {},
   "outputs": [],
   "source": [
    "# Removing unique columns\n",
    "test_final=test.copy()\n",
    "test_final.drop(['ID'],axis=1,inplace=True)"
   ]
  },
  {
   "cell_type": "code",
   "execution_count": 21,
   "id": "7d448ba1",
   "metadata": {},
   "outputs": [],
   "source": [
    "test_final=label_encoding_conversion(test_final,cat_col)"
   ]
  },
  {
   "cell_type": "code",
   "execution_count": 22,
   "id": "96230a0c",
   "metadata": {},
   "outputs": [
    {
     "name": "stderr",
     "output_type": "stream",
     "text": [
      "C:\\Users\\ekajgho\\Anaconda3\\lib\\site-packages\\sklearn\\utils\\validation.py:63: DataConversionWarning: A column-vector y was passed when a 1d array was expected. Please change the shape of y to (n_samples, ), for example using ravel().\n",
      "  return f(*args, **kwargs)\n"
     ]
    },
    {
     "data": {
      "text/plain": [
       "0.7627917387323228"
      ]
     },
     "execution_count": 22,
     "metadata": {},
     "output_type": "execute_result"
    }
   ],
   "source": [
    "# LogisticRegression\n",
    "lr=LogisticRegression()\n",
    "lr.fit(train_final,target)\n",
    "lr_pred=lr.predict(test_final)\n",
    "accuracy_score(pd.DataFrame(lr.predict(train_final)),target)"
   ]
  },
  {
   "cell_type": "code",
   "execution_count": 23,
   "id": "7c29dac9",
   "metadata": {},
   "outputs": [
    {
     "name": "stderr",
     "output_type": "stream",
     "text": [
      "<ipython-input-23-b001d032726e>:3: DataConversionWarning: A column-vector y was passed when a 1d array was expected. Please change the shape of y to (n_samples,), for example using ravel().\n",
      "  rf.fit(train_final,target)\n"
     ]
    },
    {
     "data": {
      "text/plain": [
       "0.9999430257401567"
      ]
     },
     "execution_count": 23,
     "metadata": {},
     "output_type": "execute_result"
    }
   ],
   "source": [
    "# RandomForestClassifier\n",
    "rf=RandomForestClassifier()\n",
    "rf.fit(train_final,target)\n",
    "rf_pred=rf.predict(test_final)\n",
    "accuracy_score(pd.DataFrame(rf.predict(train_final)),target)"
   ]
  },
  {
   "cell_type": "code",
   "execution_count": 24,
   "id": "44802c01",
   "metadata": {},
   "outputs": [
    {
     "name": "stderr",
     "output_type": "stream",
     "text": [
      "C:\\Users\\ekajgho\\Anaconda3\\lib\\site-packages\\sklearn\\utils\\validation.py:63: DataConversionWarning: A column-vector y was passed when a 1d array was expected. Please change the shape of y to (n_samples, ), for example using ravel().\n",
      "  return f(*args, **kwargs)\n"
     ]
    },
    {
     "data": {
      "text/plain": [
       "0.7564065520398819"
      ]
     },
     "execution_count": 24,
     "metadata": {},
     "output_type": "execute_result"
    }
   ],
   "source": [
    "# GaussianNB\n",
    "nb=GaussianNB()\n",
    "nb.fit(train_final,target)\n",
    "nb.predict(test_final)\n",
    "accuracy_score(pd.DataFrame(nb.predict(train_final)),target)"
   ]
  },
  {
   "cell_type": "code",
   "execution_count": 25,
   "id": "aedec181",
   "metadata": {},
   "outputs": [
    {
     "data": {
      "text/plain": [
       "0.9999918608200223"
      ]
     },
     "execution_count": 25,
     "metadata": {},
     "output_type": "execute_result"
    }
   ],
   "source": [
    "# DecisionTreeClassifier\n",
    "dt=tree.DecisionTreeClassifier()\n",
    "dt.fit(train_final,target)\n",
    "dt.predict(test_final)\n",
    "accuracy_score(pd.DataFrame(dt.predict(train_final)),target)"
   ]
  },
  {
   "cell_type": "code",
   "execution_count": 26,
   "id": "9875eabb",
   "metadata": {},
   "outputs": [
    {
     "name": "stderr",
     "output_type": "stream",
     "text": [
      "C:\\Users\\ekajgho\\Anaconda3\\lib\\site-packages\\sklearn\\utils\\validation.py:63: DataConversionWarning: A column-vector y was passed when a 1d array was expected. Please change the shape of y to (n_samples, ), for example using ravel().\n",
      "  return f(*args, **kwargs)\n"
     ]
    },
    {
     "data": {
      "text/plain": [
       "0.8555905992471259"
      ]
     },
     "execution_count": 26,
     "metadata": {},
     "output_type": "execute_result"
    }
   ],
   "source": [
    "# AdaBoostClassifier\n",
    "ada=AdaBoostClassifier()\n",
    "ada.fit(train_final,target)\n",
    "ada.predict(test_final)\n",
    "accuracy_score(pd.DataFrame(ada.predict(train_final)),target)"
   ]
  },
  {
   "cell_type": "code",
   "execution_count": 27,
   "id": "46f777da",
   "metadata": {},
   "outputs": [
    {
     "name": "stderr",
     "output_type": "stream",
     "text": [
      "C:\\Users\\ekajgho\\Anaconda3\\lib\\site-packages\\sklearn\\neighbors\\_classification.py:179: DataConversionWarning: A column-vector y was passed when a 1d array was expected. Please change the shape of y to (n_samples,), for example using ravel().\n",
      "  return self._fit(X, y)\n"
     ]
    },
    {
     "data": {
      "text/plain": [
       "0.8026330247227592"
      ]
     },
     "execution_count": 27,
     "metadata": {},
     "output_type": "execute_result"
    }
   ],
   "source": [
    "# KNeighborsClassifier\n",
    "knn=KNeighborsClassifier()\n",
    "knn.fit(train_final,target)\n",
    "knn.predict(test_final)\n",
    "accuracy_score(pd.DataFrame(knn.predict(train_final)),target)"
   ]
  },
  {
   "cell_type": "code",
   "execution_count": 29,
   "id": "7121e888",
   "metadata": {},
   "outputs": [
    {
     "name": "stderr",
     "output_type": "stream",
     "text": [
      "C:\\Users\\ekajgho\\Anaconda3\\lib\\site-packages\\sklearn\\utils\\validation.py:63: DataConversionWarning: A column-vector y was passed when a 1d array was expected. Please change the shape of y to (n_samples, ), for example using ravel().\n",
      "  return f(*args, **kwargs)\n"
     ]
    },
    {
     "data": {
      "text/plain": [
       "0.8602624885542781"
      ]
     },
     "execution_count": 29,
     "metadata": {},
     "output_type": "execute_result"
    }
   ],
   "source": [
    "# GradientBoostingClassifier\n",
    "gb=ensemble.GradientBoostingClassifier()\n",
    "gb.fit(train_final,target)\n",
    "gb.predict(test_final)\n",
    "accuracy_score(pd.DataFrame(gb.predict(train_final)),target)"
   ]
  },
  {
   "cell_type": "code",
   "execution_count": 30,
   "id": "a283861b",
   "metadata": {},
   "outputs": [
    {
     "name": "stderr",
     "output_type": "stream",
     "text": [
      "C:\\Users\\ekajgho\\Anaconda3\\lib\\site-packages\\xgboost\\sklearn.py:1146: UserWarning: The use of label encoder in XGBClassifier is deprecated and will be removed in a future release. To remove this warning, do the following: 1) Pass option use_label_encoder=False when constructing XGBClassifier object; and 2) Encode your labels (y) as integers starting with 0, i.e. 0, 1, 2, ..., [num_class - 1].\n",
      "  warnings.warn(label_encoder_deprecation_msg, UserWarning)\n",
      "C:\\Users\\ekajgho\\Anaconda3\\lib\\site-packages\\sklearn\\utils\\validation.py:63: DataConversionWarning: A column-vector y was passed when a 1d array was expected. Please change the shape of y to (n_samples, ), for example using ravel().\n",
      "  return f(*args, **kwargs)\n"
     ]
    },
    {
     "name": "stdout",
     "output_type": "stream",
     "text": [
      "[16:20:22] WARNING: C:/Users/Administrator/workspace/xgboost-win64_release_1.4.0/src/learner.cc:1095: Starting in XGBoost 1.3.0, the default evaluation metric used with the objective 'binary:logistic' was changed from 'error' to 'logloss'. Explicitly set eval_metric if you'd like to restore the old behavior.\n"
     ]
    },
    {
     "data": {
      "text/plain": [
       "0.8668715026961034"
      ]
     },
     "execution_count": 30,
     "metadata": {},
     "output_type": "execute_result"
    }
   ],
   "source": [
    "from xgboost.sklearn import XGBClassifier\n",
    "xgb_model = XGBClassifier().fit(train_final,target)\n",
    "y_pred = xgb_model.predict(test_final)\n",
    "accuracy_score(pd.DataFrame(xgb_model.predict(train_final)),target)"
   ]
  },
  {
   "cell_type": "code",
   "execution_count": 31,
   "id": "f9b584f1",
   "metadata": {},
   "outputs": [],
   "source": [
    "lgbm =LGBMClassifier(\n",
    "    boosting_type='gbdt',\n",
    "    num_leaves=30,\n",
    "    max_depth=7,\n",
    "    learning_rate=0.1,\n",
    "    n_estimators=150,\n",
    "    subsample_for_bin=200000,\n",
    "    objective=None,\n",
    "    class_weight=None,\n",
    "    min_split_gain=0.0,\n",
    "    min_child_weight=0.001,\n",
    "    min_child_samples=20,\n",
    "    subsample=1.0,\n",
    "    subsample_freq=0,\n",
    "    colsample_bytree=1.0,\n",
    "    reg_alpha=0.0,\n",
    "    reg_lambda=0.0,\n",
    "    random_state=42,\n",
    "    n_jobs=-1,\n",
    "    silent=True,\n",
    "    importance_type='split'\n",
    ")"
   ]
  },
  {
   "cell_type": "code",
   "execution_count": 33,
   "id": "8b829c37",
   "metadata": {},
   "outputs": [
    {
     "name": "stderr",
     "output_type": "stream",
     "text": [
      "C:\\Users\\ekajgho\\Anaconda3\\lib\\site-packages\\sklearn\\utils\\validation.py:63: DataConversionWarning: A column-vector y was passed when a 1d array was expected. Please change the shape of y to (n_samples, ), for example using ravel().\n",
      "  return f(*args, **kwargs)\n"
     ]
    },
    {
     "data": {
      "text/plain": [
       "0.8631559670363211"
      ]
     },
     "execution_count": 33,
     "metadata": {},
     "output_type": "execute_result"
    }
   ],
   "source": [
    "lgbm.fit(train_final,target)\n",
    "lgbm.predict(test_final)\n",
    "accuracy_score(pd.DataFrame(lgbm.predict(train_final)),target)\n"
   ]
  },
  {
   "cell_type": "code",
   "execution_count": null,
   "id": "9b567229",
   "metadata": {},
   "outputs": [],
   "source": [
    "from sklearn.model_selection import train_test_split\n",
    "X_train, X_test, y_train, y_test = train_test_split(train_final, target, test_size=0.3, random_state=1)\n",
    "\n",
    "print(X_train.shape)\n",
    "print(X_test.shape)\n",
    "print(y_train.shape)\n",
    "print(y_test.shape)"
   ]
  },
  {
   "cell_type": "code",
   "execution_count": null,
   "id": "5fd88d95",
   "metadata": {},
   "outputs": [],
   "source": [
    "rf.fit(X_train, y_train)\n",
    "print('Training score =', rf.score(X_train, y_train))\n",
    "print('Test score =', rf.score(X_test, y_test))"
   ]
  },
  {
   "cell_type": "code",
   "execution_count": null,
   "id": "57d929bd",
   "metadata": {},
   "outputs": [],
   "source": [
    "dt.fit(X_train, y_train)\n",
    "print('Training score =', dt.score(X_train, y_train))\n",
    "print('Test score =', dt.score(X_test, y_test))"
   ]
  },
  {
   "cell_type": "code",
   "execution_count": null,
   "id": "dc8bf355",
   "metadata": {},
   "outputs": [],
   "source": [
    "ada.fit(X_train, y_train)\n",
    "print('Training score =', ada.score(X_train, y_train))\n",
    "print('Test score =', ada.score(X_test, y_test))"
   ]
  },
  {
   "cell_type": "code",
   "execution_count": null,
   "id": "6c5a9089",
   "metadata": {},
   "outputs": [],
   "source": [
    "gb.fit(X_train, y_train)\n",
    "print('Training score =', gb.score(X_train, y_train))\n",
    "print('Test score =', gb.score(X_test, y_test))"
   ]
  },
  {
   "cell_type": "code",
   "execution_count": null,
   "id": "cffead08",
   "metadata": {},
   "outputs": [],
   "source": [
    "nb.fit(X_train, y_train)\n",
    "print('Training score =', nb.score(X_train, y_train))\n",
    "print('Test score =', nb.score(X_test, y_test))"
   ]
  },
  {
   "cell_type": "code",
   "execution_count": null,
   "id": "3a598a2c",
   "metadata": {},
   "outputs": [],
   "source": [
    "lr.fit(X_train, y_train)\n",
    "print('Training score =', lr.score(X_train, y_train))\n",
    "print('Test score =', lr.score(X_test, y_test))"
   ]
  },
  {
   "cell_type": "code",
   "execution_count": null,
   "id": "2027e52d",
   "metadata": {},
   "outputs": [],
   "source": [
    "knn.fit(X_train, y_train)\n",
    "print('Training score =', knn.score(X_train, y_train))\n",
    "print('Test score =', knn.score(X_test, y_test))"
   ]
  },
  {
   "cell_type": "code",
   "execution_count": null,
   "id": "8515e728",
   "metadata": {},
   "outputs": [],
   "source": [
    "xgb_model.fit(X_train, y_train)\n",
    "print('Training score =', xgb_model.score(X_train, y_train))\n",
    "print('Test score =', xgb_model.score(X_test, y_test))"
   ]
  },
  {
   "cell_type": "code",
   "execution_count": null,
   "id": "93a19a90",
   "metadata": {},
   "outputs": [],
   "source": [
    "### From the above results it is observed that XGB Classifier is the best performing model. "
   ]
  },
  {
   "cell_type": "code",
   "execution_count": null,
   "id": "f0e1a5ad",
   "metadata": {},
   "outputs": [],
   "source": [
    "predictions = xgb_model.predict(X_test)\n",
    "cm = confusion_matrix(y_test, predictions)\n",
    "sns.heatmap(cm, annot=True, fmt='d')\n",
    "plt.title('Confusion Matrix')\n",
    "plt.show()"
   ]
  },
  {
   "cell_type": "code",
   "execution_count": null,
   "id": "bb4eeabb",
   "metadata": {},
   "outputs": [],
   "source": [
    "tn = cm[0,0]  #True Negative\n",
    "tp = cm[1,1]  #True Positives\n",
    "fp = cm[0,1]  #False Positives\n",
    "fn = cm[1,0]  #False Negatives\n",
    "\n",
    "accuracy = (tp+tn)/(tp+fn+fp+tn)\n",
    "precision = tp / (tp+fp)\n",
    "recall = tp / (tp+fn)\n",
    "f1 = 2*precision*recall / (precision+recall)\n",
    "\n",
    "print('Accuracy =',accuracy)\n",
    "print('Precision =', precision)\n",
    "print('Recall =', recall)\n",
    "print('F1 Score =', f1)"
   ]
  },
  {
   "cell_type": "code",
   "execution_count": null,
   "id": "a3858e64",
   "metadata": {},
   "outputs": [],
   "source": [
    "from sklearn.metrics import roc_curve,roc_auc_score\n",
    "ypred = xgb_model.predict_proba(X_test)\n",
    "fpr,tpr,threshold = roc_curve(y_test,ypred[:,1])\n",
    "roc_auc = roc_auc_score(y_test,ypred[:,1])\n",
    "\n",
    "print('ROC AUC =', roc_auc)\n",
    "plt.figure()\n",
    "lw = 2\n",
    "plt.plot(fpr,tpr,color='darkorange',lw=lw,label='ROC Curve (area = %0.2f)'%roc_auc)\n",
    "plt.plot([0,1],[0,1],color='navy',lw=lw,linestyle='--')\n",
    "plt.xlim([0.0, 1.0])\n",
    "plt.ylim([0.0, 1.05])\n",
    "plt.xlabel('FPR')\n",
    "plt.ylabel('TPR')\n",
    "plt.title('ROC Curve')\n",
    "plt.legend(loc='lower right')\n",
    "plt.show()"
   ]
  },
  {
   "cell_type": "code",
   "execution_count": null,
   "id": "fc66d0a6",
   "metadata": {},
   "outputs": [],
   "source": [
    "# Predict and submission file\n",
    "predict_test=xgb_model.predict(test_final)\n",
    "pred_df=pd.DataFrame(predict_test,columns=['Is_Lead'])\n",
    "submission=pd.concat([test[['ID']],pred_df],axis=1)\n",
    "submission.to_csv('sub.csv',index=False,header=True)"
   ]
  }
 ],
 "metadata": {
  "kernelspec": {
   "display_name": "Python 3",
   "language": "python",
   "name": "python3"
  },
  "language_info": {
   "codemirror_mode": {
    "name": "ipython",
    "version": 3
   },
   "file_extension": ".py",
   "mimetype": "text/x-python",
   "name": "python",
   "nbconvert_exporter": "python",
   "pygments_lexer": "ipython3",
   "version": "3.8.8"
  }
 },
 "nbformat": 4,
 "nbformat_minor": 5
}
